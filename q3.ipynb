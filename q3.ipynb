{
 "cells": [
  {
   "cell_type": "code",
   "execution_count": 100,
   "metadata": {},
   "outputs": [],
   "source": [
    "import numpy as np\n",
    "import pandas as pd\n",
    "import matplotlib.pyplot as plt\n",
    "from sklearn.tree import DecisionTreeRegressor, export_graphviz\n",
    "from sklearn.neighbors import KNeighborsRegressor\n",
    "from sklearn.linear_model import LinearRegression\n",
    "from sklearn.linear_model import LogisticRegression\n",
    "from sklearn.ensemble import RandomForestRegressor\n",
    "from sklearn.svm import LinearSVR\n",
    "from sklearn.svm import SVR\n",
    "from sklearn.model_selection import train_test_split\n",
    "import graphviz\n",
    "import mglearn\n",
    "\n",
    "%matplotlib inline"
   ]
  },
  {
   "cell_type": "code",
   "execution_count": 101,
   "metadata": {},
   "outputs": [],
   "source": [
    "df = pd.read_csv('data/forestfires.csv')"
   ]
  },
  {
   "cell_type": "code",
   "execution_count": 102,
   "metadata": {
    "scrolled": false
   },
   "outputs": [
    {
     "data": {
      "text/html": [
       "<div>\n",
       "<style scoped>\n",
       "    .dataframe tbody tr th:only-of-type {\n",
       "        vertical-align: middle;\n",
       "    }\n",
       "\n",
       "    .dataframe tbody tr th {\n",
       "        vertical-align: top;\n",
       "    }\n",
       "\n",
       "    .dataframe thead th {\n",
       "        text-align: right;\n",
       "    }\n",
       "</style>\n",
       "<table border=\"1\" class=\"dataframe\">\n",
       "  <thead>\n",
       "    <tr style=\"text-align: right;\">\n",
       "      <th></th>\n",
       "      <th>X</th>\n",
       "      <th>Y</th>\n",
       "      <th>month</th>\n",
       "      <th>day</th>\n",
       "      <th>FFMC</th>\n",
       "      <th>DMC</th>\n",
       "      <th>DC</th>\n",
       "      <th>ISI</th>\n",
       "      <th>temp</th>\n",
       "      <th>RH</th>\n",
       "      <th>wind</th>\n",
       "      <th>rain</th>\n",
       "      <th>area</th>\n",
       "    </tr>\n",
       "  </thead>\n",
       "  <tbody>\n",
       "    <tr>\n",
       "      <th>0</th>\n",
       "      <td>7</td>\n",
       "      <td>5</td>\n",
       "      <td>mar</td>\n",
       "      <td>fri</td>\n",
       "      <td>86.2</td>\n",
       "      <td>26.2</td>\n",
       "      <td>94.3</td>\n",
       "      <td>5.1</td>\n",
       "      <td>8.2</td>\n",
       "      <td>51</td>\n",
       "      <td>6.7</td>\n",
       "      <td>0.0</td>\n",
       "      <td>0.0</td>\n",
       "    </tr>\n",
       "    <tr>\n",
       "      <th>1</th>\n",
       "      <td>7</td>\n",
       "      <td>4</td>\n",
       "      <td>oct</td>\n",
       "      <td>tue</td>\n",
       "      <td>90.6</td>\n",
       "      <td>35.4</td>\n",
       "      <td>669.1</td>\n",
       "      <td>6.7</td>\n",
       "      <td>18.0</td>\n",
       "      <td>33</td>\n",
       "      <td>0.9</td>\n",
       "      <td>0.0</td>\n",
       "      <td>0.0</td>\n",
       "    </tr>\n",
       "    <tr>\n",
       "      <th>2</th>\n",
       "      <td>7</td>\n",
       "      <td>4</td>\n",
       "      <td>oct</td>\n",
       "      <td>sat</td>\n",
       "      <td>90.6</td>\n",
       "      <td>43.7</td>\n",
       "      <td>686.9</td>\n",
       "      <td>6.7</td>\n",
       "      <td>14.6</td>\n",
       "      <td>33</td>\n",
       "      <td>1.3</td>\n",
       "      <td>0.0</td>\n",
       "      <td>0.0</td>\n",
       "    </tr>\n",
       "    <tr>\n",
       "      <th>3</th>\n",
       "      <td>8</td>\n",
       "      <td>6</td>\n",
       "      <td>mar</td>\n",
       "      <td>fri</td>\n",
       "      <td>91.7</td>\n",
       "      <td>33.3</td>\n",
       "      <td>77.5</td>\n",
       "      <td>9.0</td>\n",
       "      <td>8.3</td>\n",
       "      <td>97</td>\n",
       "      <td>4.0</td>\n",
       "      <td>0.2</td>\n",
       "      <td>0.0</td>\n",
       "    </tr>\n",
       "    <tr>\n",
       "      <th>4</th>\n",
       "      <td>8</td>\n",
       "      <td>6</td>\n",
       "      <td>mar</td>\n",
       "      <td>sun</td>\n",
       "      <td>89.3</td>\n",
       "      <td>51.3</td>\n",
       "      <td>102.2</td>\n",
       "      <td>9.6</td>\n",
       "      <td>11.4</td>\n",
       "      <td>99</td>\n",
       "      <td>1.8</td>\n",
       "      <td>0.0</td>\n",
       "      <td>0.0</td>\n",
       "    </tr>\n",
       "  </tbody>\n",
       "</table>\n",
       "</div>"
      ],
      "text/plain": [
       "   X  Y month  day  FFMC   DMC     DC  ISI  temp  RH  wind  rain  area\n",
       "0  7  5   mar  fri  86.2  26.2   94.3  5.1   8.2  51   6.7   0.0   0.0\n",
       "1  7  4   oct  tue  90.6  35.4  669.1  6.7  18.0  33   0.9   0.0   0.0\n",
       "2  7  4   oct  sat  90.6  43.7  686.9  6.7  14.6  33   1.3   0.0   0.0\n",
       "3  8  6   mar  fri  91.7  33.3   77.5  9.0   8.3  97   4.0   0.2   0.0\n",
       "4  8  6   mar  sun  89.3  51.3  102.2  9.6  11.4  99   1.8   0.0   0.0"
      ]
     },
     "execution_count": 102,
     "metadata": {},
     "output_type": "execute_result"
    }
   ],
   "source": [
    "df.head()"
   ]
  },
  {
   "cell_type": "code",
   "execution_count": 103,
   "metadata": {},
   "outputs": [
    {
     "data": {
      "text/plain": [
       "251"
      ]
     },
     "execution_count": 103,
     "metadata": {},
     "output_type": "execute_result"
    }
   ],
   "source": [
    "df.area.nunique()"
   ]
  },
  {
   "cell_type": "code",
   "execution_count": 104,
   "metadata": {
    "scrolled": false
   },
   "outputs": [
    {
     "name": "stdout",
     "output_type": "stream",
     "text": [
      "<class 'pandas.core.frame.DataFrame'>\n",
      "RangeIndex: 517 entries, 0 to 516\n",
      "Data columns (total 13 columns):\n",
      "X        517 non-null int64\n",
      "Y        517 non-null int64\n",
      "month    517 non-null object\n",
      "day      517 non-null object\n",
      "FFMC     517 non-null float64\n",
      "DMC      517 non-null float64\n",
      "DC       517 non-null float64\n",
      "ISI      517 non-null float64\n",
      "temp     517 non-null float64\n",
      "RH       517 non-null int64\n",
      "wind     517 non-null float64\n",
      "rain     517 non-null float64\n",
      "area     517 non-null float64\n",
      "dtypes: float64(8), int64(3), object(2)\n",
      "memory usage: 52.6+ KB\n"
     ]
    }
   ],
   "source": [
    "df.info()"
   ]
  },
  {
   "cell_type": "code",
   "execution_count": 105,
   "metadata": {
    "scrolled": false
   },
   "outputs": [
    {
     "data": {
      "text/plain": [
       "X        False\n",
       "Y        False\n",
       "month    False\n",
       "day      False\n",
       "FFMC     False\n",
       "DMC      False\n",
       "DC       False\n",
       "ISI      False\n",
       "temp     False\n",
       "RH       False\n",
       "wind     False\n",
       "rain     False\n",
       "area     False\n",
       "dtype: bool"
      ]
     },
     "execution_count": 105,
     "metadata": {},
     "output_type": "execute_result"
    }
   ],
   "source": [
    "df.isnull().any()"
   ]
  },
  {
   "cell_type": "code",
   "execution_count": 106,
   "metadata": {},
   "outputs": [],
   "source": [
    "data_conversion = pd.get_dummies(df, columns=[\"month\",\"day\"])"
   ]
  },
  {
   "cell_type": "code",
   "execution_count": 107,
   "metadata": {
    "scrolled": false
   },
   "outputs": [
    {
     "data": {
      "text/plain": [
       "(517, 30)"
      ]
     },
     "execution_count": 107,
     "metadata": {},
     "output_type": "execute_result"
    }
   ],
   "source": [
    "data_conversion.shape"
   ]
  },
  {
   "cell_type": "code",
   "execution_count": 108,
   "metadata": {},
   "outputs": [
    {
     "data": {
      "text/plain": [
       "((517, 29), (517,))"
      ]
     },
     "execution_count": 108,
     "metadata": {},
     "output_type": "execute_result"
    }
   ],
   "source": [
    "data_y = data_conversion[\"area\"]\n",
    "data_x = data_conversion.drop(columns=[\"area\"])\n",
    "data_x.shape, data_y.shape"
   ]
  },
  {
   "cell_type": "code",
   "execution_count": 109,
   "metadata": {
    "scrolled": true
   },
   "outputs": [
    {
     "data": {
      "text/plain": [
       "((517, 29), (517,))"
      ]
     },
     "execution_count": 109,
     "metadata": {},
     "output_type": "execute_result"
    }
   ],
   "source": [
    "data_np_x = np.array(data_x)\n",
    "data_np_y = np.array(data_y)\n",
    "data_np_x.shape, data_np_y.shape"
   ]
  },
  {
   "cell_type": "code",
   "execution_count": 110,
   "metadata": {},
   "outputs": [
    {
     "data": {
      "text/plain": [
       "((413, 29), (104, 29), (413,), (104,))"
      ]
     },
     "execution_count": 110,
     "metadata": {},
     "output_type": "execute_result"
    }
   ],
   "source": [
    "train_x, test_x, train_y, test_y = train_test_split(data_np_x, data_np_y, test_size=0.2)\n",
    "train_x.shape, test_x.shape, train_y.shape, test_y.shape"
   ]
  },
  {
   "cell_type": "code",
   "execution_count": 111,
   "metadata": {},
   "outputs": [],
   "source": [
    "def test_model(model, train_x, test_x, train_y, test_y):\n",
    "    model.fit(train_x, train_y)\n",
    "    print('Performance:{}, {}'.format(model.score(train_x, train_y), model.score(test_x, test_y)))\n",
    "    pass"
   ]
  },
  {
   "cell_type": "code",
   "execution_count": 112,
   "metadata": {},
   "outputs": [
    {
     "name": "stdout",
     "output_type": "stream",
     "text": [
      "Performance:0.2625017855077951, -2.8706458237445793\n",
      "Performance:0.050909366104198606, -1.3106982567334509\n",
      "Performance:0.9999216939342821, -34.46293995516603\n",
      "Performance:0.7294119096653274, -7.441619527823624\n",
      "Performance:-0.007439218225973043, -1.680039809694919\n",
      "Performance:-0.0310224718447214, -0.1689895420682488\n"
     ]
    }
   ],
   "source": [
    "test_model(KNeighborsRegressor(), train_x, test_x, train_y, test_y)\n",
    "test_model(LinearRegression(), train_x, test_x, train_y, test_y)\n",
    "test_model(DecisionTreeRegressor(), train_x, test_x, train_y, test_y)\n",
    "test_model(RandomForestRegressor(), train_x, test_x, train_y, test_y)\n",
    "test_model(LinearSVR(), train_x, test_x, train_y, test_y)\n",
    "test_model(SVR(), train_x, test_x, train_y, test_y)"
   ]
  },
  {
   "cell_type": "markdown",
   "metadata": {},
   "source": [
    "- 성능 너무 안나온다.."
   ]
  },
  {
   "cell_type": "markdown",
   "metadata": {},
   "source": [
    "# Clustering"
   ]
  },
  {
   "cell_type": "code",
   "execution_count": 113,
   "metadata": {},
   "outputs": [],
   "source": [
    "from sklearn.decomposition import PCA"
   ]
  },
  {
   "cell_type": "code",
   "execution_count": 114,
   "metadata": {
    "scrolled": false
   },
   "outputs": [
    {
     "data": {
      "text/plain": [
       "{'whiskers': [<matplotlib.lines.Line2D at 0x1e5d8500cf8>,\n",
       "  <matplotlib.lines.Line2D at 0x1e5d85051d0>,\n",
       "  <matplotlib.lines.Line2D at 0x1e5d850fb00>,\n",
       "  <matplotlib.lines.Line2D at 0x1e5d850ff28>,\n",
       "  <matplotlib.lines.Line2D at 0x1e5d8520898>,\n",
       "  <matplotlib.lines.Line2D at 0x1e5d8520cc0>,\n",
       "  <matplotlib.lines.Line2D at 0x1e5d8532630>,\n",
       "  <matplotlib.lines.Line2D at 0x1e5d8532a58>,\n",
       "  <matplotlib.lines.Line2D at 0x1e5d85423c8>,\n",
       "  <matplotlib.lines.Line2D at 0x1e5d85427f0>,\n",
       "  <matplotlib.lines.Line2D at 0x1e5d8553160>,\n",
       "  <matplotlib.lines.Line2D at 0x1e5d8553588>,\n",
       "  <matplotlib.lines.Line2D at 0x1e5d855eeb8>,\n",
       "  <matplotlib.lines.Line2D at 0x1e5d8567320>,\n",
       "  <matplotlib.lines.Line2D at 0x1e5d856ec50>,\n",
       "  <matplotlib.lines.Line2D at 0x1e5d85780b8>,\n",
       "  <matplotlib.lines.Line2D at 0x1e5d85809e8>,\n",
       "  <matplotlib.lines.Line2D at 0x1e5d8580e10>,\n",
       "  <matplotlib.lines.Line2D at 0x1e5d8590780>,\n",
       "  <matplotlib.lines.Line2D at 0x1e5d8590ba8>,\n",
       "  <matplotlib.lines.Line2D at 0x1e5d85a4518>,\n",
       "  <matplotlib.lines.Line2D at 0x1e5d85a4940>,\n",
       "  <matplotlib.lines.Line2D at 0x1e5d85b42b0>,\n",
       "  <matplotlib.lines.Line2D at 0x1e5d85b46d8>,\n",
       "  <matplotlib.lines.Line2D at 0x1e5d85c6048>,\n",
       "  <matplotlib.lines.Line2D at 0x1e5d85c6470>,\n",
       "  <matplotlib.lines.Line2D at 0x1e5d85ceda0>,\n",
       "  <matplotlib.lines.Line2D at 0x1e5d85d9208>,\n",
       "  <matplotlib.lines.Line2D at 0x1e5d85e1b38>,\n",
       "  <matplotlib.lines.Line2D at 0x1e5d85e1f60>,\n",
       "  <matplotlib.lines.Line2D at 0x1e5d85f27b8>,\n",
       "  <matplotlib.lines.Line2D at 0x1e5d85f2ba8>,\n",
       "  <matplotlib.lines.Line2D at 0x1e5d86063c8>,\n",
       "  <matplotlib.lines.Line2D at 0x1e5d86067b8>,\n",
       "  <matplotlib.lines.Line2D at 0x1e5d860ef98>,\n",
       "  <matplotlib.lines.Line2D at 0x1e5d86183c8>,\n",
       "  <matplotlib.lines.Line2D at 0x1e5d861fba8>,\n",
       "  <matplotlib.lines.Line2D at 0x1e5d861ff98>,\n",
       "  <matplotlib.lines.Line2D at 0x1e5d86327b8>,\n",
       "  <matplotlib.lines.Line2D at 0x1e5d8632ba8>,\n",
       "  <matplotlib.lines.Line2D at 0x1e5d86453c8>,\n",
       "  <matplotlib.lines.Line2D at 0x1e5d86457b8>,\n",
       "  <matplotlib.lines.Line2D at 0x1e5d864ff98>,\n",
       "  <matplotlib.lines.Line2D at 0x1e5d86583c8>,\n",
       "  <matplotlib.lines.Line2D at 0x1e5d8660ba8>,\n",
       "  <matplotlib.lines.Line2D at 0x1e5d8660f98>,\n",
       "  <matplotlib.lines.Line2D at 0x1e5d86737b8>,\n",
       "  <matplotlib.lines.Line2D at 0x1e5d8673ba8>,\n",
       "  <matplotlib.lines.Line2D at 0x1e5d86863c8>,\n",
       "  <matplotlib.lines.Line2D at 0x1e5d86867b8>,\n",
       "  <matplotlib.lines.Line2D at 0x1e5d868ff98>,\n",
       "  <matplotlib.lines.Line2D at 0x1e5d86993c8>,\n",
       "  <matplotlib.lines.Line2D at 0x1e5d86a1ba8>,\n",
       "  <matplotlib.lines.Line2D at 0x1e5d86a1f98>,\n",
       "  <matplotlib.lines.Line2D at 0x1e5d86b57b8>,\n",
       "  <matplotlib.lines.Line2D at 0x1e5d86b5ba8>,\n",
       "  <matplotlib.lines.Line2D at 0x1e5d86c73c8>,\n",
       "  <matplotlib.lines.Line2D at 0x1e5d86c77b8>],\n",
       " 'caps': [<matplotlib.lines.Line2D at 0x1e5d85055f8>,\n",
       "  <matplotlib.lines.Line2D at 0x1e5d8505a20>,\n",
       "  <matplotlib.lines.Line2D at 0x1e5d8518390>,\n",
       "  <matplotlib.lines.Line2D at 0x1e5d85187b8>,\n",
       "  <matplotlib.lines.Line2D at 0x1e5d852a128>,\n",
       "  <matplotlib.lines.Line2D at 0x1e5d852a550>,\n",
       "  <matplotlib.lines.Line2D at 0x1e5d8532e80>,\n",
       "  <matplotlib.lines.Line2D at 0x1e5d853a2e8>,\n",
       "  <matplotlib.lines.Line2D at 0x1e5d8542c18>,\n",
       "  <matplotlib.lines.Line2D at 0x1e5d854c080>,\n",
       "  <matplotlib.lines.Line2D at 0x1e5d85539b0>,\n",
       "  <matplotlib.lines.Line2D at 0x1e5d8553dd8>,\n",
       "  <matplotlib.lines.Line2D at 0x1e5d8567748>,\n",
       "  <matplotlib.lines.Line2D at 0x1e5d8567b70>,\n",
       "  <matplotlib.lines.Line2D at 0x1e5d85784e0>,\n",
       "  <matplotlib.lines.Line2D at 0x1e5d8578908>,\n",
       "  <matplotlib.lines.Line2D at 0x1e5d858a278>,\n",
       "  <matplotlib.lines.Line2D at 0x1e5d858a6a0>,\n",
       "  <matplotlib.lines.Line2D at 0x1e5d8590fd0>,\n",
       "  <matplotlib.lines.Line2D at 0x1e5d8599438>,\n",
       "  <matplotlib.lines.Line2D at 0x1e5d85a4d68>,\n",
       "  <matplotlib.lines.Line2D at 0x1e5d85ab1d0>,\n",
       "  <matplotlib.lines.Line2D at 0x1e5d85b4b00>,\n",
       "  <matplotlib.lines.Line2D at 0x1e5d85b4f28>,\n",
       "  <matplotlib.lines.Line2D at 0x1e5d85c6898>,\n",
       "  <matplotlib.lines.Line2D at 0x1e5d85c6cc0>,\n",
       "  <matplotlib.lines.Line2D at 0x1e5d85d9630>,\n",
       "  <matplotlib.lines.Line2D at 0x1e5d85d9a58>,\n",
       "  <matplotlib.lines.Line2D at 0x1e5d85e93c8>,\n",
       "  <matplotlib.lines.Line2D at 0x1e5d85e97b8>,\n",
       "  <matplotlib.lines.Line2D at 0x1e5d85f2f98>,\n",
       "  <matplotlib.lines.Line2D at 0x1e5d85fd3c8>,\n",
       "  <matplotlib.lines.Line2D at 0x1e5d8606ba8>,\n",
       "  <matplotlib.lines.Line2D at 0x1e5d8606f98>,\n",
       "  <matplotlib.lines.Line2D at 0x1e5d86187b8>,\n",
       "  <matplotlib.lines.Line2D at 0x1e5d8618ba8>,\n",
       "  <matplotlib.lines.Line2D at 0x1e5d862b3c8>,\n",
       "  <matplotlib.lines.Line2D at 0x1e5d862b7b8>,\n",
       "  <matplotlib.lines.Line2D at 0x1e5d8632f98>,\n",
       "  <matplotlib.lines.Line2D at 0x1e5d863c3c8>,\n",
       "  <matplotlib.lines.Line2D at 0x1e5d8645ba8>,\n",
       "  <matplotlib.lines.Line2D at 0x1e5d8645f98>,\n",
       "  <matplotlib.lines.Line2D at 0x1e5d86587b8>,\n",
       "  <matplotlib.lines.Line2D at 0x1e5d8658ba8>,\n",
       "  <matplotlib.lines.Line2D at 0x1e5d866b3c8>,\n",
       "  <matplotlib.lines.Line2D at 0x1e5d866b7b8>,\n",
       "  <matplotlib.lines.Line2D at 0x1e5d8673f98>,\n",
       "  <matplotlib.lines.Line2D at 0x1e5d867f3c8>,\n",
       "  <matplotlib.lines.Line2D at 0x1e5d8686ba8>,\n",
       "  <matplotlib.lines.Line2D at 0x1e5d8686f98>,\n",
       "  <matplotlib.lines.Line2D at 0x1e5d86997b8>,\n",
       "  <matplotlib.lines.Line2D at 0x1e5d8699ba8>,\n",
       "  <matplotlib.lines.Line2D at 0x1e5d86ac3c8>,\n",
       "  <matplotlib.lines.Line2D at 0x1e5d86ac7b8>,\n",
       "  <matplotlib.lines.Line2D at 0x1e5d86b5f98>,\n",
       "  <matplotlib.lines.Line2D at 0x1e5d86bf3c8>,\n",
       "  <matplotlib.lines.Line2D at 0x1e5d86c7ba8>,\n",
       "  <matplotlib.lines.Line2D at 0x1e5d86c7f98>],\n",
       " 'boxes': [<matplotlib.lines.Line2D at 0x1e5d8500ba8>,\n",
       "  <matplotlib.lines.Line2D at 0x1e5d850f6a0>,\n",
       "  <matplotlib.lines.Line2D at 0x1e5d8520438>,\n",
       "  <matplotlib.lines.Line2D at 0x1e5d85321d0>,\n",
       "  <matplotlib.lines.Line2D at 0x1e5d853af28>,\n",
       "  <matplotlib.lines.Line2D at 0x1e5d854ccc0>,\n",
       "  <matplotlib.lines.Line2D at 0x1e5d855ea58>,\n",
       "  <matplotlib.lines.Line2D at 0x1e5d856e7f0>,\n",
       "  <matplotlib.lines.Line2D at 0x1e5d8580588>,\n",
       "  <matplotlib.lines.Line2D at 0x1e5d8590320>,\n",
       "  <matplotlib.lines.Line2D at 0x1e5d85a40b8>,\n",
       "  <matplotlib.lines.Line2D at 0x1e5d85abe10>,\n",
       "  <matplotlib.lines.Line2D at 0x1e5d85beba8>,\n",
       "  <matplotlib.lines.Line2D at 0x1e5d85ce940>,\n",
       "  <matplotlib.lines.Line2D at 0x1e5d85e16d8>,\n",
       "  <matplotlib.lines.Line2D at 0x1e5d85f2390>,\n",
       "  <matplotlib.lines.Line2D at 0x1e5d85fdf60>,\n",
       "  <matplotlib.lines.Line2D at 0x1e5d860eb70>,\n",
       "  <matplotlib.lines.Line2D at 0x1e5d861f780>,\n",
       "  <matplotlib.lines.Line2D at 0x1e5d8632390>,\n",
       "  <matplotlib.lines.Line2D at 0x1e5d863cf60>,\n",
       "  <matplotlib.lines.Line2D at 0x1e5d864fb70>,\n",
       "  <matplotlib.lines.Line2D at 0x1e5d8660780>,\n",
       "  <matplotlib.lines.Line2D at 0x1e5d8673390>,\n",
       "  <matplotlib.lines.Line2D at 0x1e5d867ff60>,\n",
       "  <matplotlib.lines.Line2D at 0x1e5d868fb70>,\n",
       "  <matplotlib.lines.Line2D at 0x1e5d86a1780>,\n",
       "  <matplotlib.lines.Line2D at 0x1e5d86b5390>,\n",
       "  <matplotlib.lines.Line2D at 0x1e5d86bff60>],\n",
       " 'medians': [<matplotlib.lines.Line2D at 0x1e5d8505e48>,\n",
       "  <matplotlib.lines.Line2D at 0x1e5d8518be0>,\n",
       "  <matplotlib.lines.Line2D at 0x1e5d852a978>,\n",
       "  <matplotlib.lines.Line2D at 0x1e5d853a710>,\n",
       "  <matplotlib.lines.Line2D at 0x1e5d854c4a8>,\n",
       "  <matplotlib.lines.Line2D at 0x1e5d855e240>,\n",
       "  <matplotlib.lines.Line2D at 0x1e5d8567f98>,\n",
       "  <matplotlib.lines.Line2D at 0x1e5d8578d30>,\n",
       "  <matplotlib.lines.Line2D at 0x1e5d858aac8>,\n",
       "  <matplotlib.lines.Line2D at 0x1e5d8599860>,\n",
       "  <matplotlib.lines.Line2D at 0x1e5d85ab5f8>,\n",
       "  <matplotlib.lines.Line2D at 0x1e5d85be390>,\n",
       "  <matplotlib.lines.Line2D at 0x1e5d85ce128>,\n",
       "  <matplotlib.lines.Line2D at 0x1e5d85d9e80>,\n",
       "  <matplotlib.lines.Line2D at 0x1e5d85e9ba8>,\n",
       "  <matplotlib.lines.Line2D at 0x1e5d85fd7b8>,\n",
       "  <matplotlib.lines.Line2D at 0x1e5d860e3c8>,\n",
       "  <matplotlib.lines.Line2D at 0x1e5d8618f98>,\n",
       "  <matplotlib.lines.Line2D at 0x1e5d862bba8>,\n",
       "  <matplotlib.lines.Line2D at 0x1e5d863c7b8>,\n",
       "  <matplotlib.lines.Line2D at 0x1e5d864f3c8>,\n",
       "  <matplotlib.lines.Line2D at 0x1e5d8658f98>,\n",
       "  <matplotlib.lines.Line2D at 0x1e5d866bba8>,\n",
       "  <matplotlib.lines.Line2D at 0x1e5d867f7b8>,\n",
       "  <matplotlib.lines.Line2D at 0x1e5d868f3c8>,\n",
       "  <matplotlib.lines.Line2D at 0x1e5d8699f98>,\n",
       "  <matplotlib.lines.Line2D at 0x1e5d86acba8>,\n",
       "  <matplotlib.lines.Line2D at 0x1e5d86bf7b8>,\n",
       "  <matplotlib.lines.Line2D at 0x1e5d86d13c8>],\n",
       " 'fliers': [<matplotlib.lines.Line2D at 0x1e5d850f2b0>,\n",
       "  <matplotlib.lines.Line2D at 0x1e5d8520048>,\n",
       "  <matplotlib.lines.Line2D at 0x1e5d852ada0>,\n",
       "  <matplotlib.lines.Line2D at 0x1e5d853ab38>,\n",
       "  <matplotlib.lines.Line2D at 0x1e5d854c8d0>,\n",
       "  <matplotlib.lines.Line2D at 0x1e5d855e668>,\n",
       "  <matplotlib.lines.Line2D at 0x1e5d856e400>,\n",
       "  <matplotlib.lines.Line2D at 0x1e5d8580198>,\n",
       "  <matplotlib.lines.Line2D at 0x1e5d858aef0>,\n",
       "  <matplotlib.lines.Line2D at 0x1e5d8599c88>,\n",
       "  <matplotlib.lines.Line2D at 0x1e5d85aba20>,\n",
       "  <matplotlib.lines.Line2D at 0x1e5d85be7b8>,\n",
       "  <matplotlib.lines.Line2D at 0x1e5d85ce550>,\n",
       "  <matplotlib.lines.Line2D at 0x1e5d85e12e8>,\n",
       "  <matplotlib.lines.Line2D at 0x1e5d85e9f98>,\n",
       "  <matplotlib.lines.Line2D at 0x1e5d85fdba8>,\n",
       "  <matplotlib.lines.Line2D at 0x1e5d860e7b8>,\n",
       "  <matplotlib.lines.Line2D at 0x1e5d861f3c8>,\n",
       "  <matplotlib.lines.Line2D at 0x1e5d862bf98>,\n",
       "  <matplotlib.lines.Line2D at 0x1e5d863cba8>,\n",
       "  <matplotlib.lines.Line2D at 0x1e5d864f7b8>,\n",
       "  <matplotlib.lines.Line2D at 0x1e5d86603c8>,\n",
       "  <matplotlib.lines.Line2D at 0x1e5d866bf98>,\n",
       "  <matplotlib.lines.Line2D at 0x1e5d867fba8>,\n",
       "  <matplotlib.lines.Line2D at 0x1e5d868f7b8>,\n",
       "  <matplotlib.lines.Line2D at 0x1e5d86a13c8>,\n",
       "  <matplotlib.lines.Line2D at 0x1e5d86acf98>,\n",
       "  <matplotlib.lines.Line2D at 0x1e5d86bfba8>,\n",
       "  <matplotlib.lines.Line2D at 0x1e5d86d17b8>],\n",
       " 'means': []}"
      ]
     },
     "execution_count": 114,
     "metadata": {},
     "output_type": "execute_result"
    },
    {
     "data": {
      "image/png": "[encoded data removed]",
      "text/plain": [
       "<Figure size 432x288 with 1 Axes>"
      ]
     },
     "metadata": {},
     "output_type": "display_data"
    }
   ],
   "source": [
    "plt.boxplot(data_np_x)"
   ]
  },
  {
   "cell_type": "markdown",
   "metadata": {},
   "source": [
    "- 아 정규화가 필요해 보인다 ㄷㄷ"
   ]
  },
  {
   "cell_type": "code",
   "execution_count": 115,
   "metadata": {},
   "outputs": [],
   "source": [
    "from sklearn.preprocessing import StandardScaler"
   ]
  },
  {
   "cell_type": "code",
   "execution_count": 116,
   "metadata": {},
   "outputs": [],
   "source": [
    "scaler = StandardScaler().fit(data_np_x)\n",
    "x = scaler.transform(data_np_x)"
   ]
  },
  {
   "cell_type": "code",
   "execution_count": 117,
   "metadata": {
    "scrolled": true
   },
   "outputs": [
    {
     "data": {
      "image/png": "[encoded data removed]",
      "text/plain": [
       "<Figure size 432x288 with 1 Axes>"
      ]
     },
     "metadata": {},
     "output_type": "display_data"
    }
   ],
   "source": [
    "ax = plt.boxplot(x)"
   ]
  },
  {
   "cell_type": "code",
   "execution_count": 118,
   "metadata": {},
   "outputs": [],
   "source": [
    "pca = PCA(n_components=2).fit(x)\n",
    "pca_train_x = pca.transform(train_x)\n",
    "pca_test_x = pca.transform(test_x)"
   ]
  },
  {
   "cell_type": "code",
   "execution_count": 119,
   "metadata": {
    "scrolled": true
   },
   "outputs": [
    {
     "data": {
      "text/plain": [
       "[<matplotlib.lines.Line2D at 0x1e5d882d898>]"
      ]
     },
     "execution_count": 119,
     "metadata": {},
     "output_type": "execute_result"
    },
    {
     "data": {
      "image/png": "[encoded data removed]",
      "text/plain": [
       "<Figure size 432x288 with 1 Axes>"
      ]
     },
     "metadata": {},
     "output_type": "display_data"
    }
   ],
   "source": [
    "mglearn.discrete_scatter(pca_train_x[:,0], pca_train_x[:,1])"
   ]
  },
  {
   "cell_type": "code",
   "execution_count": 120,
   "metadata": {},
   "outputs": [],
   "source": [
    "from sklearn.cluster import KMeans"
   ]
  },
  {
   "cell_type": "code",
   "execution_count": 122,
   "metadata": {
    "scrolled": true
   },
   "outputs": [
    {
     "data": {
      "text/plain": [
       "[<matplotlib.lines.Line2D at 0x1e5d88e0da0>,\n",
       " <matplotlib.lines.Line2D at 0x1e5d88e0eb8>,\n",
       " <matplotlib.lines.Line2D at 0x1e5d88e9390>]"
      ]
     },
     "execution_count": 122,
     "metadata": {},
     "output_type": "execute_result"
    },
    {
     "data": {
      "image/png": "[encoded data removed]",
      "text/plain": [
       "<Figure size 432x288 with 1 Axes>"
      ]
     },
     "metadata": {},
     "output_type": "display_data"
    }
   ],
   "source": [
    "km = KMeans(n_clusters=3).fit(pca_train_x)\n",
    "mglearn.discrete_scatter(pca_train_x[:,0], pca_train_x[:,1], km.labels_)"
   ]
  }
 ],
 "metadata": {
  "kernelspec": {
   "display_name": "Python 3",
   "language": "python",
   "name": "python3"
  },
  "language_info": {
   "codemirror_mode": {
    "name": "ipython",
    "version": 3
   },
   "file_extension": ".py",
   "mimetype": "text/x-python",
   "name": "python",
   "nbconvert_exporter": "python",
   "pygments_lexer": "ipython3",
   "version": "3.6.5"
  }
 },
 "nbformat": 4,
 "nbformat_minor": 2
}
